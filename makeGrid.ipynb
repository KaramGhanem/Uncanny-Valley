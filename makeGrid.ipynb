{
 "cells": [
  {
   "attachments": {},
   "cell_type": "markdown",
   "metadata": {},
   "source": [
    "# FFHQ"
   ]
  },
  {
   "cell_type": "code",
   "execution_count": 1,
   "metadata": {},
   "outputs": [],
   "source": [
    "from PIL import Image\n",
    "import os\n",
    "\n",
    "def make_grid(image_paths, grid_size, image_size):\n",
    "    # Create a new blank image with a white background\n",
    "    grid_img = Image.new('RGB', (grid_size[0] * image_size[0], grid_size[1] * image_size[1]), color='white')\n",
    "    \n",
    "    # Iterate over the grid\n",
    "    for i, img_path in enumerate(image_paths):\n",
    "        # Open the image and resize it\n",
    "        img = Image.open(img_path).resize(image_size)\n",
    "        # Compute the position where the image will be placed in the grid\n",
    "        x = i % grid_size[0] * image_size[0]\n",
    "        y = i // grid_size[0] * image_size[1]\n",
    "        # Paste the image into the grid\n",
    "        grid_img.paste(img, (x, y))\n",
    "    \n",
    "    return grid_img\n",
    "\n",
    "#For FFHQ : Creates one Grid per checkpoint\n",
    "\n",
    "#Gets the same set of images i.e. 000001 - 000100\n",
    "root_dir = '/home/mila/k/karam.ghanem/scratch/Diffusion/minDiffusion/edm/training-runs/00024-cifar10-32x32-uncond-ncsnpp-edm-gpus1-batch32-fp32/ninth_checkpoint/'\n",
    "\n",
    "# Size of the grid (number of images horizontally by number of images vertically)\n",
    "grid_size = (10, 10)  # for example, for a 10x10 grid\n",
    "# List of image paths\n",
    "image_paths = [os.path.join(root_dir, f'{str(i).zfill(6)}.png') for i in range(grid_size[0] * grid_size[1])]\n",
    "\n",
    "# Size of each image in the grid\n",
    "image_size = (32, 32)  # assuming each image is 64x64 pixels\n",
    "\n",
    "# Create the grid image\n",
    "grid_image = make_grid(image_paths, grid_size, image_size)\n",
    "\n",
    "# Save the grid image\n",
    "grid_image.save('/home/mila/k/karam.ghanem/scratch/Diffusion/minDiffusion/edm/training-runs/image_grid.png')\n"
   ]
  },
  {
   "attachments": {},
   "cell_type": "markdown",
   "metadata": {},
   "source": [
    "# CIFAR10 SDE"
   ]
  },
  {
   "cell_type": "code",
   "execution_count": null,
   "metadata": {},
   "outputs": [],
   "source": [
    "from PIL import Image\n",
    "import os\n",
    "\n",
    "def make_grid(image_paths, grid_size, image_size):\n",
    "    # Create a new blank image with a white background\n",
    "    grid_img = Image.new('RGB', (grid_size[0] * image_size[0], grid_size[1] * image_size[1]), color='white')\n",
    "    \n",
    "    # Iterate over the grid\n",
    "    for i, img_path in enumerate(image_paths):\n",
    "        # Open the image and resize it\n",
    "        img = Image.open(img_path).resize(image_size)\n",
    "        # Compute the position where the image will be placed in the grid\n",
    "        x = i % grid_size[0] * image_size[0]\n",
    "        y = i // grid_size[0] * image_size[1]\n",
    "        # Paste the image into the grid\n",
    "        grid_img.paste(img, (x, y))\n",
    "    \n",
    "    return grid_img\n",
    "\n",
    "#For CIFAR10 : Progressive plotting\n",
    "\n",
    "def get_image_paths(root_dir, checkpoints, image_name, runs):\n",
    "    image_paths = []\n",
    "    for run in runs:\n",
    "        for checkpoint in checkpoints:\n",
    "            checkpoint_dir = os.path.join(root_dir, run, checkpoint)\n",
    "            image_path = os.path.join(checkpoint_dir, image_name)\n",
    "            image_paths.append(image_path)\n",
    "    return image_paths\n",
    "\n",
    "# Settings for SDE\n",
    "image_name = '000000.png'  # Replace with the specific image name you want to pick\n",
    "root_dir_SDE = '/home/mila/k/karam.ghanem/scratch/Diffusion/minDiffusion/edm/training-run/'\n",
    "checkpoints = ['first_checkpoint','second_checkpoint','third_checkpoint','fourth_checkpoint','fifth_checkpoint','sixth_checkpoint','seventh_checkpoint','eighth_checkpoint','ninth_checkpoint' ]  # Checkpoints 1 to 9\n",
    "runs_SDE = ['00021-cifar10-32x32-cond-ddpmpp-edm-gpus1-batch32-fp32/', '00022-cifar10-32x32-uncond-ddpmpp-edm-gpus1-batch32-fp32', '00023-cifar10-32x32-cond-ncsnpp-edm-gpus1-batch32-fp32', '00024-cifar10-32x32-uncond-ncsnpp-edm-gpus1-batch32-fp32']  # Runs for SDE\n",
    "grid_size_SDE = (9, 4)\n",
    "image_paths_SDE = get_image_paths(root_dir_SDE, checkpoints, image_name, runs_SDE)\n",
    "grid_image_SDE = make_grid(image_paths_SDE, grid_size_SDE, image_size)\n",
    "\n",
    "# Save the SDE grid image\n",
    "grid_image_SDE.show()\n",
    "# grid_image_SDE.save('/home/mila/k/karam.ghanem/scratch/Diffusion/minDiffusion/edm/training-runs/sde_image_grid.png')"
   ]
  },
  {
   "attachments": {},
   "cell_type": "markdown",
   "metadata": {},
   "source": [
    "# CIFAR10 DDPM"
   ]
  },
  {
   "cell_type": "code",
   "execution_count": null,
   "metadata": {},
   "outputs": [],
   "source": [
    "from PIL import Image\n",
    "import os\n",
    "\n",
    "def make_grid(image_paths, grid_size, image_size):\n",
    "    # Create a new blank image with a white background\n",
    "    grid_img = Image.new('RGB', (grid_size[0] * image_size[0], grid_size[1] * image_size[1]), color='white')\n",
    "    \n",
    "    # Iterate over the grid\n",
    "    for i, img_path in enumerate(image_paths):\n",
    "        # Open the image and resize it\n",
    "        img = Image.open(img_path).resize(image_size)\n",
    "        # Compute the position where the image will be placed in the grid\n",
    "        x = i % grid_size[0] * image_size[0]\n",
    "        y = i // grid_size[0] * image_size[1]\n",
    "        # Paste the image into the grid\n",
    "        grid_img.paste(img, (x, y))\n",
    "    \n",
    "    return grid_img\n",
    "\n",
    "#For CIFAR10 : Progressive plotting\n",
    "\n",
    "def get_image_paths(root_dir, checkpoints, image_name, runs):\n",
    "    image_paths = []\n",
    "    for run in runs:\n",
    "        for checkpoint in checkpoints:\n",
    "            checkpoint_dir = os.path.join(root_dir, run, checkpoint)\n",
    "            image_path = os.path.join(checkpoint_dir, image_name)\n",
    "            image_paths.append(image_path)\n",
    "    return image_paths\n",
    "\n",
    "\n",
    "# Settings for DDPM\n",
    "image_name = 'specific_image.png'  # Replace with the specific image name you want to pick\n",
    "root_dir_DDPM = '/home/mila/k/karam.ghanem/scratch/Diffusion/minDiffusion'\n",
    "checkpoints = ['model_0','model_1', 'model_2', 'model_3', 'model_4', 'model_5', 'model_6','model_7', 'model_8']   # Checkpoints 1 to 9\n",
    "runs_DDPM = ['Langevin_Classifier_cosine_results','Langevin_Classifier_sigmoid_results', 'Langevin_Classifier_linear_0.25_results', 'Langevin_Classifier_linear_0.5_results', 'Langevin_Classifier_linear_0.75_results', 'Langevin_Classifier_linear_1_results']  # Runs for DDPM\n",
    "grid_size_DDPM = (9, 6)\n",
    "image_paths_DDPM = get_image_paths(root_dir_DDPM, checkpoints, image_name, runs_DDPM)\n",
    "grid_image_DDPM = make_grid(image_paths_DDPM, grid_size_DDPM, image_size)\n",
    "\n",
    "# Save the DDPM grid image\n",
    "grid_image_DDPM.show()\n",
    "# grid_image_DDPM.save('/home/mila/k/karam.ghanem/scratch/Diffusion/minDiffusion/edm/training-runs/ddpm_image_grid.png')\n"
   ]
  }
 ],
 "metadata": {
  "kernelspec": {
   "display_name": "py3.8",
   "language": "python",
   "name": "python3"
  },
  "language_info": {
   "codemirror_mode": {
    "name": "ipython",
    "version": 3
   },
   "file_extension": ".py",
   "mimetype": "text/x-python",
   "name": "python",
   "nbconvert_exporter": "python",
   "pygments_lexer": "ipython3",
   "version": "3.8.13"
  },
  "orig_nbformat": 4,
  "vscode": {
   "interpreter": {
    "hash": "374f35ccd8bd4b9480f7333ddd1041a833b8640b420a95073059c19364bfc17a"
   }
  }
 },
 "nbformat": 4,
 "nbformat_minor": 2
}
